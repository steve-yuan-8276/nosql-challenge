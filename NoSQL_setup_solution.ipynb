{
 "cells": [
  {
   "metadata": {},
   "cell_type": "markdown",
   "source": "# Eat Safe, Love",
   "id": "f16725eee0584562"
  },
  {
   "metadata": {},
   "cell_type": "markdown",
   "source": "## Part 1: Database and Jupyter Notebook Set Up",
   "id": "291abb29e429a9ba"
  },
  {
   "metadata": {},
   "cell_type": "markdown",
   "source": [
    "Import the data provided in the `establishments.json` file from your Terminal. Name the database `uk_food` and the collection `establishments`.\n",
    "\n",
    "Within this markdown cell, copy the line of text you used to import the data from your Terminal. This way, future analysts will be able to repeat your process.\n",
    "\n",
    "e.g.: Import the dataset with `YOUR IMPORT TEXT HERE`"
   ],
   "id": "7e2048ce0353bf1f"
  },
  {
   "metadata": {
    "ExecuteTime": {
     "end_time": "2024-08-02T03:41:05.271462Z",
     "start_time": "2024-08-02T03:41:05.268707Z"
    }
   },
   "cell_type": "code",
   "source": [
    "# Import dependencies\n",
    "from pymongo import MongoClient\n",
    "from pprint import pprint"
   ],
   "id": "f73012a10590b47a",
   "outputs": [],
   "execution_count": 65
  },
  {
   "metadata": {
    "ExecuteTime": {
     "end_time": "2024-08-02T03:41:06.160815Z",
     "start_time": "2024-08-02T03:41:06.155030Z"
    }
   },
   "cell_type": "code",
   "source": [
    "# Create an instance of MongoClient\n",
    "mongo = MongoClient(port=27017)"
   ],
   "id": "2383064c5582ca44",
   "outputs": [],
   "execution_count": 66
  },
  {
   "metadata": {
    "ExecuteTime": {
     "end_time": "2024-08-02T03:41:06.903378Z",
     "start_time": "2024-08-02T03:41:06.896194Z"
    }
   },
   "cell_type": "code",
   "source": [
    "# confirm that our new database was created\n",
    "print(mongo.list_database_names())  # Listing all database names"
   ],
   "id": "6089b06731021a2c",
   "outputs": [
    {
     "name": "stdout",
     "output_type": "stream",
     "text": [
      "['admin', 'classDB', 'config', 'fruitDB', 'gardenDB', 'local', 'metDB', 'petsitly_marketing', 'test', 'trave_db', 'uk_food']\n"
     ]
    }
   ],
   "execution_count": 67
  },
  {
   "metadata": {
    "ExecuteTime": {
     "end_time": "2024-08-02T03:41:07.829742Z",
     "start_time": "2024-08-02T03:41:07.826246Z"
    }
   },
   "cell_type": "code",
   "source": [
    "# assign the uk_food database to a variable name\n",
    "db = mongo['uk_food']"
   ],
   "id": "f9e1a58efb26b177",
   "outputs": [],
   "execution_count": 68
  },
  {
   "metadata": {
    "ExecuteTime": {
     "end_time": "2024-08-02T03:41:08.418763Z",
     "start_time": "2024-08-02T03:41:08.414757Z"
    }
   },
   "cell_type": "code",
   "source": [
    "# review the collections in our new database\n",
    "print(db.list_collection_names())"
   ],
   "id": "b1cab5b520579253",
   "outputs": [
    {
     "name": "stdout",
     "output_type": "stream",
     "text": [
      "['establishments']\n"
     ]
    }
   ],
   "execution_count": 69
  },
  {
   "metadata": {
    "ExecuteTime": {
     "end_time": "2024-08-02T03:41:09.059369Z",
     "start_time": "2024-08-02T03:41:09.056339Z"
    }
   },
   "cell_type": "code",
   "source": [
    "# assign the collection to a variable\n",
    "establishments = db['establishments']"
   ],
   "id": "eaca104177148194",
   "outputs": [],
   "execution_count": 70
  },
  {
   "metadata": {
    "ExecuteTime": {
     "end_time": "2024-08-02T03:41:09.653096Z",
     "start_time": "2024-08-02T03:41:09.641876Z"
    }
   },
   "cell_type": "code",
   "source": [
    "# review a document in the establishments collection\n",
    "doc_one = establishments.find_one()\n",
    "pprint(doc_one)"
   ],
   "id": "eaf95d26c0a53236",
   "outputs": [
    {
     "name": "stdout",
     "output_type": "stream",
     "text": [
      "{'AddressLine1': 'The Bay',\n",
      " 'AddressLine2': 'St Margarets Bay',\n",
      " 'AddressLine3': 'Kent',\n",
      " 'AddressLine4': '',\n",
      " 'BusinessName': 'Refreshment Kiosk',\n",
      " 'BusinessType': 'Restaurant/Cafe/Canteen',\n",
      " 'BusinessTypeID': 1,\n",
      " 'ChangesByServerID': 0,\n",
      " 'Distance': 4587.347174863443,\n",
      " 'FHRSID': 254719,\n",
      " 'LocalAuthorityBusinessID': 'PI/000069980',\n",
      " 'LocalAuthorityCode': '182',\n",
      " 'LocalAuthorityEmailAddress': 'publicprotection@dover.gov.uk',\n",
      " 'LocalAuthorityName': 'Dover',\n",
      " 'LocalAuthorityWebSite': 'http://www.dover.gov.uk/',\n",
      " 'NewRatingPending': False,\n",
      " 'Phone': '',\n",
      " 'PostCode': 'CT15 6DY',\n",
      " 'RatingDate': '2022-03-24T00:00:00',\n",
      " 'RatingKey': 'fhrs_5_en-gb',\n",
      " 'RatingValue': '5',\n",
      " 'RightToReply': '',\n",
      " 'SchemeType': 'FHRS',\n",
      " '_id': ObjectId('66ac553db2f827193321ce81'),\n",
      " 'geocode': {'latitude': '51.152225', 'longitude': '1.387974'},\n",
      " 'links': [{'href': 'https://api.ratings.food.gov.uk/establishments/254719',\n",
      "            'rel': 'self'}],\n",
      " 'meta': {'dataSource': None,\n",
      "          'extractDate': '0001-01-01T00:00:00',\n",
      "          'itemCount': 0,\n",
      "          'pageNumber': 0,\n",
      "          'pageSize': 0,\n",
      "          'returncode': None,\n",
      "          'totalCount': 0,\n",
      "          'totalPages': 0},\n",
      " 'scores': {'ConfidenceInManagement': 5, 'Hygiene': 0, 'Structural': 5}}\n"
     ]
    }
   ],
   "execution_count": 71
  },
  {
   "metadata": {},
   "cell_type": "markdown",
   "source": "## Part 2: Update the Database",
   "id": "1adbdc0bf78ab7b9"
  },
  {
   "metadata": {},
   "cell_type": "markdown",
   "source": "1. An exciting new halal restaurant just opened in Greenwich, but hasn't been rated yet. The magazine has asked you to include it in your analysis. Add the following restaurant \"Penang Flavours\" to the database.",
   "id": "25a70022724b09f2"
  },
  {
   "metadata": {
    "ExecuteTime": {
     "end_time": "2024-08-02T03:41:12.912646Z",
     "start_time": "2024-08-02T03:41:12.908447Z"
    }
   },
   "cell_type": "code",
   "source": [
    "# Create a dictionary for the new restaurant data\n",
    "new_restaurants_dict = {\n",
    "    \"BusinessName\":\"Penang Flavours\",\n",
    "    \"BusinessType\":\"Restaurant/Cafe/Canteen\",\n",
    "    \"BusinessTypeID\":\"\",\n",
    "    \"AddressLine1\":\"Penang Flavours\",\n",
    "    \"AddressLine2\":\"146A Plumstead Rd\",\n",
    "    \"AddressLine3\":\"London\",\n",
    "    \"AddressLine4\":\"\",\n",
    "    \"PostCode\":\"SE18 7DY\",\n",
    "    \"Phone\":\"\",\n",
    "    \"LocalAuthorityCode\":\"511\",\n",
    "    \"LocalAuthorityName\":\"Greenwich\",\n",
    "    \"LocalAuthorityWebSite\":\"http://www.royalgreenwich.gov.uk\",\n",
    "    \"LocalAuthorityEmailAddress\":\"health@royalgreenwich.gov.uk\",\n",
    "    \"scores\":{\n",
    "        \"Hygiene\":\"\",\n",
    "        \"Structural\":\"\",\n",
    "        \"ConfidenceInManagement\":\"\"\n",
    "    },\n",
    "    \"SchemeType\":\"FHRS\",\n",
    "    \"geocode\":{\n",
    "        \"longitude\":\"0.08384000\",\n",
    "        \"latitude\":\"51.49014200\"\n",
    "    },\n",
    "    \"RightToReply\":\"\",\n",
    "    \"Distance\":4623.9723280747176,\n",
    "    \"NewRatingPending\":True\n",
    "}"
   ],
   "id": "df29844a75b304ab",
   "outputs": [],
   "execution_count": 72
  },
  {
   "metadata": {
    "ExecuteTime": {
     "end_time": "2024-08-02T03:41:13.952767Z",
     "start_time": "2024-08-02T03:41:13.942622Z"
    }
   },
   "cell_type": "code",
   "source": [
    "# Insert the new restaurant into the collection\n",
    "establishments.insert_one(new_restaurants_dict)"
   ],
   "id": "e48b0bc9b9223bfb",
   "outputs": [
    {
     "data": {
      "text/plain": [
       "InsertOneResult(ObjectId('66ac555958a546f85caa0004'), acknowledged=True)"
      ]
     },
     "execution_count": 73,
     "metadata": {},
     "output_type": "execute_result"
    }
   ],
   "execution_count": 73
  },
  {
   "metadata": {
    "ExecuteTime": {
     "end_time": "2024-08-02T03:41:14.888326Z",
     "start_time": "2024-08-02T03:41:14.833022Z"
    }
   },
   "cell_type": "code",
   "source": [
    "# Check that the new restaurant was inserted\n",
    "query = {'BusinessName':'Penang Flavours'}\n",
    "results = list(establishments.find(query))\n",
    "if results:\n",
    "    print(f'Inserted action successful. There are {len(results)} records.')\n",
    "    pprint(results)\n",
    "else:\n",
    "    print('Inserted action failed. Do it again.')"
   ],
   "id": "c9fd26b84cd6fe9d",
   "outputs": [
    {
     "name": "stdout",
     "output_type": "stream",
     "text": [
      "Inserted action successful. There are 1 records.\n",
      "[{'AddressLine1': 'Penang Flavours',\n",
      "  'AddressLine2': '146A Plumstead Rd',\n",
      "  'AddressLine3': 'London',\n",
      "  'AddressLine4': '',\n",
      "  'BusinessName': 'Penang Flavours',\n",
      "  'BusinessType': 'Restaurant/Cafe/Canteen',\n",
      "  'BusinessTypeID': '',\n",
      "  'Distance': 4623.972328074718,\n",
      "  'LocalAuthorityCode': '511',\n",
      "  'LocalAuthorityEmailAddress': 'health@royalgreenwich.gov.uk',\n",
      "  'LocalAuthorityName': 'Greenwich',\n",
      "  'LocalAuthorityWebSite': 'http://www.royalgreenwich.gov.uk',\n",
      "  'NewRatingPending': True,\n",
      "  'Phone': '',\n",
      "  'PostCode': 'SE18 7DY',\n",
      "  'RightToReply': '',\n",
      "  'SchemeType': 'FHRS',\n",
      "  '_id': ObjectId('66ac555958a546f85caa0004'),\n",
      "  'geocode': {'latitude': '51.49014200', 'longitude': '0.08384000'},\n",
      "  'scores': {'ConfidenceInManagement': '', 'Hygiene': '', 'Structural': ''}}]\n"
     ]
    }
   ],
   "execution_count": 74
  },
  {
   "metadata": {},
   "cell_type": "markdown",
   "source": "2. Find the BusinessTypeID for \"Restaurant/Cafe/Canteen\" and return only the `BusinessTypeID` and `BusinessType` fields.",
   "id": "25f9d52fa11a0087"
  },
  {
   "metadata": {
    "ExecuteTime": {
     "end_time": "2024-08-02T03:41:32.466803Z",
     "start_time": "2024-08-02T03:41:32.389538Z"
    }
   },
   "cell_type": "code",
   "source": [
    "# Find the BusinessTypeID for \"Restaurant/Cafe/Canteen\" and return only the BusinessTypeID and BusinessType fields\n",
    "query = {'BusinessType':'Restaurant/Cafe/Canteen'}\n",
    "fields = {\n",
    "    'BusinessTypeID':1, \n",
    "    'BusinessType':1\n",
    "}\n",
    "\n",
    "results = list(establishments.find(query, fields))\n",
    "pprint(results[0])"
   ],
   "id": "175efd0c79c546a9",
   "outputs": [
    {
     "name": "stdout",
     "output_type": "stream",
     "text": [
      "{'BusinessType': 'Restaurant/Cafe/Canteen',\n",
      " 'BusinessTypeID': 1,\n",
      " '_id': ObjectId('66ac553db2f827193321ce81')}\n"
     ]
    }
   ],
   "execution_count": 75
  },
  {
   "metadata": {},
   "cell_type": "markdown",
   "source": "3. Update the new restaurant with the `BusinessTypeID` you found.",
   "id": "8eed3ccada93cd36"
  },
  {
   "metadata": {
    "ExecuteTime": {
     "end_time": "2024-08-02T03:42:05.729204Z",
     "start_time": "2024-08-02T03:42:05.680283Z"
    }
   },
   "cell_type": "code",
   "source": [
    "# Find correct BusinessTypeID\n",
    "business_type_id = results[0]['BusinessTypeID']\n",
    "\n",
    "# Update the new restaurant with the correct BusinessTypeID\n",
    "update_result = establishments.update_one(\n",
    "    {'BusinessName': 'Penang Flavours'},\n",
    "    {'$set': {'BusinessTypeID':business_type_id}}\n",
    ")"
   ],
   "id": "fa1cb0d7259a215f",
   "outputs": [],
   "execution_count": 77
  },
  {
   "metadata": {
    "ExecuteTime": {
     "end_time": "2024-08-02T03:42:20.127060Z",
     "start_time": "2024-08-02T03:42:20.082012Z"
    }
   },
   "cell_type": "code",
   "source": [
    "# Confirm that the new restaurant was updated\n",
    "query = {'BusinessName':'Penang Flavours'}\n",
    "fields = {\n",
    "    'BusinessName':1,\n",
    "    'BusinessTypeID':1,\n",
    "    'BusinessType':1\n",
    "}\n",
    "\n",
    "results = list(establishments.find(query, fields))\n",
    "pprint(results)"
   ],
   "id": "4089fa35c76b8e58",
   "outputs": [
    {
     "name": "stdout",
     "output_type": "stream",
     "text": [
      "[{'BusinessName': 'Penang Flavours',\n",
      "  'BusinessType': 'Restaurant/Cafe/Canteen',\n",
      "  'BusinessTypeID': 1,\n",
      "  '_id': ObjectId('66ac555958a546f85caa0004')}]\n"
     ]
    }
   ],
   "execution_count": 79
  },
  {
   "metadata": {},
   "cell_type": "markdown",
   "source": "4. The magazine is not interested in any establishments in Dover, so check how many documents contain the Dover Local Authority. Then, remove any establishments within the Dover Local Authority from the database, and check the number of documents to ensure they were deleted.",
   "id": "2be866af2623c520"
  },
  {
   "metadata": {
    "ExecuteTime": {
     "end_time": "2024-08-02T03:42:36.439806Z",
     "start_time": "2024-08-02T03:42:36.374372Z"
    }
   },
   "cell_type": "code",
   "source": [
    "# Find how many documents have LocalAuthorityName as \"Dover\"\n",
    "delete_query = {'LocalAuthorityName': 'Dover'}\n",
    "\n",
    "results = list(establishments.find(delete_query))\n",
    "\n",
    "print(f'There are {len(results)} records have LocalAuthorityName as \"Dover\".')"
   ],
   "id": "9958339ecd7c2ff6",
   "outputs": [
    {
     "name": "stdout",
     "output_type": "stream",
     "text": [
      "There are 994 records have LocalAuthorityName as \"Dover\".\n"
     ]
    }
   ],
   "execution_count": 81
  },
  {
   "metadata": {
    "ExecuteTime": {
     "end_time": "2024-08-02T03:42:40.535639Z",
     "start_time": "2024-08-02T03:42:40.476226Z"
    }
   },
   "cell_type": "code",
   "source": [
    "# Delete all documents where LocalAuthorityName is \"Dover\"\n",
    "delete_results =establishments.delete_many(delete_query)"
   ],
   "id": "e2ef8c2bd09d3ff7",
   "outputs": [],
   "execution_count": 82
  },
  {
   "metadata": {
    "ExecuteTime": {
     "end_time": "2024-08-02T03:42:43.886564Z",
     "start_time": "2024-08-02T03:42:43.847859Z"
    }
   },
   "cell_type": "code",
   "source": [
    "# Check if any remaining documents include Dover\n",
    "match_query = {\n",
    "    'localAuthorityName':\n",
    "        {'$regex':'Dover', \n",
    "         '$options':'i'  # The specified matching pattern for the regular expression, 'i' indicates case-insensitive matching.\n",
    "         }\n",
    "}\n",
    "\n",
    "remaining_results = list(establishments.find(match_query))\n",
    "\n",
    "if remaining_results:\n",
    "    print(\"There are still documents with 'Dover' in LocalAuthorityName:\")\n",
    "    for doc in remaining_results:\n",
    "        print(doc)\n",
    "else:\n",
    "    print(\"No documents with 'Dover' in LocalAuthorityName found.\")"
   ],
   "id": "c814067aba28bdc0",
   "outputs": [
    {
     "name": "stdout",
     "output_type": "stream",
     "text": [
      "No documents with 'Dover' in LocalAuthorityName found.\n"
     ]
    }
   ],
   "execution_count": 83
  },
  {
   "metadata": {
    "ExecuteTime": {
     "end_time": "2024-08-02T03:42:49.282744Z",
     "start_time": "2024-08-02T03:42:49.232987Z"
    }
   },
   "cell_type": "code",
   "source": [
    "# Check that other documents remain with 'find_one'\n",
    "remaining_result = establishments.find_one(match_query)\n",
    "pprint(remaining_result)"
   ],
   "id": "9ca68a3a82980577",
   "outputs": [
    {
     "name": "stdout",
     "output_type": "stream",
     "text": [
      "None\n"
     ]
    }
   ],
   "execution_count": 84
  },
  {
   "metadata": {},
   "cell_type": "markdown",
   "source": [
    "5. Some of the number values are stored as strings, when they should be stored as numbers.\n",
    "\n",
    "\n",
    "Use update_many to convert latitude and longitude to decimal numbers."
   ],
   "id": "9886c5373fdd89ab"
  },
  {
   "metadata": {
    "ExecuteTime": {
     "end_time": "2024-08-02T03:52:04.016647Z",
     "start_time": "2024-08-02T03:52:02.270707Z"
    }
   },
   "cell_type": "code",
   "source": [
    "# Change the data type from String to Decimal for longitude and latitude\n",
    "update_result = establishments.update_many(\n",
    "    {\n",
    "        '$or': [ # Select conditions to ensure that latitude and longitude are strings\n",
    "            {'geocode.latitude': {'$type': 'string'}},\n",
    "            {'geocode.longitude': {'$type': 'string'}}\n",
    "        ]\n",
    "    },\n",
    "    [\n",
    "        {\n",
    "            '$set': { # Use $set to set a new value, and use $convert to convert a string to a number\n",
    "                \"geocode.latitude\": {\"$convert\": {\"input\": \"$geocode.latitude\", \"to\": \"double\", \"onError\": None, \"onNull\": None}},\n",
    "                \"geocode.longitude\": {\"$convert\": {\"input\": \"$geocode.longitude\", \"to\": \"double\", \"onError\": None, \"onNull\": None}}\n",
    "            }\n",
    "        }\n",
    "    ]\n",
    ")\n",
    "\n",
    "# Output the number of updated documents\n",
    "print(f'Updated {update_result.modified_count} documents with numeric latitude and longitude.')"
   ],
   "id": "4fef6f00e9da7427",
   "outputs": [
    {
     "name": "stdout",
     "output_type": "stream",
     "text": [
      "Updated 38786 documents with numeric latitude and longitude.\n"
     ]
    }
   ],
   "execution_count": 86
  },
  {
   "metadata": {
    "ExecuteTime": {
     "end_time": "2024-08-02T03:52:08.123604Z",
     "start_time": "2024-08-02T03:52:07.931163Z"
    }
   },
   "cell_type": "code",
   "source": [
    "# Set non 1-5 Rating Values to Null\n",
    "non_ratings = [\"AwaitingInspection\", \"Awaiting Inspection\", \"AwaitingPublication\", \"Pass\", \"Exempt\"]\n",
    "establishments.update_many({\"RatingValue\": {\"$in\": non_ratings}}, [ {'$set':{ \"RatingValue\" : None}} ])"
   ],
   "id": "601bbb281745ebb5",
   "outputs": [
    {
     "data": {
      "text/plain": [
       "UpdateResult({'n': 4091, 'nModified': 4091, 'ok': 1.0, 'updatedExisting': True}, acknowledged=True)"
      ]
     },
     "execution_count": 87,
     "metadata": {},
     "output_type": "execute_result"
    }
   ],
   "execution_count": 87
  },
  {
   "metadata": {
    "ExecuteTime": {
     "end_time": "2024-08-02T03:52:13.087525Z",
     "start_time": "2024-08-02T03:52:11.264728Z"
    }
   },
   "cell_type": "code",
   "source": [
    "# Change the data type from String to Integer for RatingValue\n",
    "update_result = establishments.update_many(\n",
    "    {\n",
    "        \"RatingValue\": { \"$type\": \"string\", \"$regex\": \"^[0-9]+$\"}\n",
    "    },\n",
    "    [\n",
    "        {\"$set\": {\"RatingValue\": {\"$convert\": {\"input\": \"$RatingValue\", \"to\": \"int\", \"onError\": None, \"onNull\": None}}}}\n",
    "    ]\n",
    ")\n",
    "\n",
    "# Print \n",
    "print(f'Converted RatingValue from String to Integer.')"
   ],
   "id": "24ede1a9b9fa63c9",
   "outputs": [
    {
     "name": "stdout",
     "output_type": "stream",
     "text": [
      "Converted RatingValue from String to Integer.\n"
     ]
    }
   ],
   "execution_count": 88
  },
  {
   "metadata": {
    "ExecuteTime": {
     "end_time": "2024-08-02T03:52:16.764358Z",
     "start_time": "2024-08-02T03:52:16.690594Z"
    }
   },
   "cell_type": "code",
   "source": [
    "# Check that the coordinates and rating value are now numbers\n",
    "# Build query conditions and check the types of latitude, longitude, and RatingValue.\n",
    "query = {\n",
    "    \"$or\": [\n",
    "        {\"geocode.latitude\": {\"$type\": \"string\"}},\n",
    "        {\"geocode.longitude\": {\"$type\": \"string\"}},\n",
    "        {\"RatingValue\": {\"$type\": \"string\"}}\n",
    "    ]\n",
    "}\n",
    "\n",
    "# Find documents that meet the criteria.\n",
    "results = list(establishments.find(query, {\"geocode.latitude\": 1, \"geocode.longitude\": 1, \"RatingValue\": 1, \"BusinessName\": 1, \"_id\": 0}))\n",
    "\n",
    "# review the recults\n",
    "if results:\n",
    "    print(\"Documents with non-numeric latitude, longitude, or RatingValue:\")\n",
    "    pprint(len(results))\n",
    "else:\n",
    "    print(\"All documents have numeric latitude, longitude, and RatingValue.\")"
   ],
   "id": "c067b3c9885f9d3b",
   "outputs": [
    {
     "name": "stdout",
     "output_type": "stream",
     "text": [
      "All documents have numeric latitude, longitude, and RatingValue.\n"
     ]
    }
   ],
   "execution_count": 89
  },
  {
   "metadata": {},
   "cell_type": "code",
   "outputs": [],
   "execution_count": null,
   "source": "",
   "id": "aeb5001eab0778f5"
  }
 ],
 "metadata": {
  "kernelspec": {
   "display_name": "Python 3",
   "language": "python",
   "name": "python3"
  },
  "language_info": {
   "codemirror_mode": {
    "name": "ipython",
    "version": 2
   },
   "file_extension": ".py",
   "mimetype": "text/x-python",
   "name": "python",
   "nbconvert_exporter": "python",
   "pygments_lexer": "ipython2",
   "version": "2.7.6"
  }
 },
 "nbformat": 4,
 "nbformat_minor": 5
}
